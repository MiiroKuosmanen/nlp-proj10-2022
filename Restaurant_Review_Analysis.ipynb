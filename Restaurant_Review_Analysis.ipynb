{
 "cells": [
  {
   "cell_type": "code",
   "execution_count": 2,
   "metadata": {
    "ExecuteTime": {
     "end_time": "2022-04-15T18:45:09.740478Z",
     "start_time": "2022-04-15T18:45:07.101021Z"
    }
   },
   "outputs": [],
   "source": [
    "import sys\n",
    "\n",
    "# %pip install pandas\n",
    "import pandas as pd\n",
    "\n",
    "# %pip install numpy\n",
    "import numpy as np\n",
    "\n",
    "# %pip install textblob\n",
    "from textblob import TextBlob\n",
    "\n",
    "# %pip install nltk\n",
    "import nltk"
   ]
  },
  {
   "cell_type": "code",
   "execution_count": 2,
   "metadata": {
    "ExecuteTime": {
     "end_time": "2022-04-15T18:45:18.492995Z",
     "start_time": "2022-04-15T18:45:09.743821Z"
    }
   },
   "outputs": [
    {
     "name": "stdout",
     "output_type": "stream",
     "text": [
      "                                                Review  Liked\n",
      "0                             Wow... Loved this place.      1\n",
      "1                                   Crust is not good.      0\n",
      "2            Not tasty and the texture was just nasty.      0\n",
      "3    Stopped by during the late May bank holiday of...      1\n",
      "4    The selection on the menu was great and so wer...      1\n",
      "..                                                 ...    ...\n",
      "995  I think food should have flavor and texture an...      0\n",
      "996                           Appetite instantly gone.      0\n",
      "997  Overall I was not impressed and would not go b...      0\n",
      "998  The whole experience was underwhelming, and I ...      0\n",
      "999  Then, as if I hadn't wasted enough of my life ...      0\n",
      "\n",
      "[1000 rows x 2 columns]\n"
     ]
    }
   ],
   "source": [
    "reviews_df = pd.read_csv('Restaurant_Reviews.tsv', sep='\\t')\n",
    "print(reviews_df)"
   ]
  },
  {
   "cell_type": "code",
   "execution_count": 4,
   "metadata": {},
   "outputs": [
    {
     "name": "stdout",
     "output_type": "stream",
     "text": [
      "[[1.         0.59005924]\n",
      " [0.59005924 1.        ]]\n"
     ]
    }
   ],
   "source": [
    "review_column = reviews_df[\"Review\"]\n",
    "liked_column = reviews_df[\"Liked\"]\n",
    "sentiment_polarity = []\n",
    "\n",
    "for column in review_column:\n",
    "    blob = TextBlob(column)\n",
    "    sentiment_polarity.append(blob.sentiment.polarity)\n",
    "\n",
    "pearson_corr_coeff = np.corrcoef(sentiment_polarity, liked_column)\n",
    "print(pearson_corr_coeff)"
   ]
  },
  {
   "cell_type": "code",
   "execution_count": null,
   "metadata": {},
   "outputs": [],
   "source": []
  }
 ],
 "metadata": {
  "kernelspec": {
   "display_name": "Python 3.10.2 64-bit",
   "language": "python",
   "name": "python3"
  },
  "language_info": {
   "codemirror_mode": {
    "name": "ipython",
    "version": 3
   },
   "file_extension": ".py",
   "mimetype": "text/x-python",
   "name": "python",
   "nbconvert_exporter": "python",
   "pygments_lexer": "ipython3",
   "version": "3.10.2"
  },
  "toc": {
   "base_numbering": 1,
   "nav_menu": {},
   "number_sections": true,
   "sideBar": true,
   "skip_h1_title": false,
   "title_cell": "Table of Contents",
   "title_sidebar": "Contents",
   "toc_cell": false,
   "toc_position": {},
   "toc_section_display": true,
   "toc_window_display": false
  },
  "vscode": {
   "interpreter": {
    "hash": "369f2c481f4da34e4445cda3fffd2e751bd1c4d706f27375911949ba6bb62e1c"
   }
  }
 },
 "nbformat": 4,
 "nbformat_minor": 2
}
